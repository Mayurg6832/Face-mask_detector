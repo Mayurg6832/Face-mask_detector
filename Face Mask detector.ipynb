{
 "cells": [
  {
   "cell_type": "markdown",
   "metadata": {},
   "source": [
    "# Importing Libraries"
   ]
  },
  {
   "cell_type": "code",
   "execution_count": 1,
   "metadata": {},
   "outputs": [
    {
     "name": "stderr",
     "output_type": "stream",
     "text": [
      "Using TensorFlow backend.\n"
     ]
    }
   ],
   "source": [
    "import tensorflow as tf\n",
    "\n",
    "import keras\n",
    "from keras.preprocessing.image import ImageDataGenerator"
   ]
  },
  {
   "cell_type": "markdown",
   "metadata": {},
   "source": [
    "# Generating Image Data"
   ]
  },
  {
   "cell_type": "code",
   "execution_count": 2,
   "metadata": {},
   "outputs": [
    {
     "name": "stdout",
     "output_type": "stream",
     "text": [
      "Found 1315 images belonging to 2 classes.\n"
     ]
    }
   ],
   "source": [
    "training_path = 'dataset/train'\n",
    "train_datagen = ImageDataGenerator(\n",
    "    rescale=1./255,\n",
    "    rotation_range=40,\n",
    "    width_shift_range=0.2,\n",
    "    height_shift_range=0.2,\n",
    "    shear_range=0.2,\n",
    "    zoom_range=0.2,\n",
    "    horizontal_flip=True,\n",
    "    fill_mode='nearest'\n",
    ")\n",
    "train_set=train_datagen.flow_from_directory(training_path,\n",
    "                                 batch_size=10,\n",
    "                                 target_size=(150,150))"
   ]
  },
  {
   "cell_type": "code",
   "execution_count": 3,
   "metadata": {},
   "outputs": [
    {
     "name": "stdout",
     "output_type": "stream",
     "text": [
      "Found 194 images belonging to 2 classes.\n"
     ]
    }
   ],
   "source": [
    "validation_path='dataset/test'\n",
    "validation_datagen = ImageDataGenerator(rescale=1./255)\n",
    "test_set=validation_datagen.flow_from_directory(validation_path,\n",
    "                                      batch_size=10,\n",
    "                                      target_size=(150,150))"
   ]
  },
  {
   "cell_type": "markdown",
   "metadata": {},
   "source": [
    "# Creating Model"
   ]
  },
  {
   "cell_type": "code",
   "execution_count": 4,
   "metadata": {},
   "outputs": [],
   "source": [
    "cnn=keras.models.Sequential()"
   ]
  },
  {
   "cell_type": "markdown",
   "metadata": {},
   "source": [
    "## Adding  Hidden layer"
   ]
  },
  {
   "cell_type": "code",
   "execution_count": 5,
   "metadata": {},
   "outputs": [],
   "source": [
    "cnn.add(keras.layers.Conv2D(filters=100,kernel_size=3,activation='relu',\n",
    "                              input_shape=(150,150,3)))\n",
    "cnn.add(keras.layers.MaxPool2D(pool_size=2,strides=2))\n",
    "cnn.add(keras.layers.Conv2D(filters=100,kernel_size=3,activation='relu'))\n",
    "cnn.add(keras.layers.MaxPool2D(pool_size=2,strides=2))"
   ]
  },
  {
   "cell_type": "code",
   "execution_count": 6,
   "metadata": {},
   "outputs": [],
   "source": [
    "cnn.add(keras.layers.Dropout(0.5))\n",
    "cnn.add(keras.layers.Flatten())\n",
    "cnn.add(keras.layers.Dense(units=50,activation='relu'))\n",
    "cnn.add(keras.layers.Dense(units=2,activation='softmax'))"
   ]
  },
  {
   "cell_type": "code",
   "execution_count": 7,
   "metadata": {},
   "outputs": [],
   "source": [
    "cnn.compile(optimizer='adam',loss='binary_crossentropy',metrics=['accuracy'])"
   ]
  },
  {
   "cell_type": "code",
   "execution_count": 8,
   "metadata": {},
   "outputs": [
    {
     "name": "stdout",
     "output_type": "stream",
     "text": [
      "Model: \"sequential_1\"\n",
      "_________________________________________________________________\n",
      "Layer (type)                 Output Shape              Param #   \n",
      "=================================================================\n",
      "conv2d_1 (Conv2D)            (None, 148, 148, 100)     2800      \n",
      "_________________________________________________________________\n",
      "max_pooling2d_1 (MaxPooling2 (None, 74, 74, 100)       0         \n",
      "_________________________________________________________________\n",
      "conv2d_2 (Conv2D)            (None, 72, 72, 100)       90100     \n",
      "_________________________________________________________________\n",
      "max_pooling2d_2 (MaxPooling2 (None, 36, 36, 100)       0         \n",
      "_________________________________________________________________\n",
      "dropout_1 (Dropout)          (None, 36, 36, 100)       0         \n",
      "_________________________________________________________________\n",
      "flatten_1 (Flatten)          (None, 129600)            0         \n",
      "_________________________________________________________________\n",
      "dense_1 (Dense)              (None, 50)                6480050   \n",
      "_________________________________________________________________\n",
      "dense_2 (Dense)              (None, 2)                 102       \n",
      "=================================================================\n",
      "Total params: 6,573,052\n",
      "Trainable params: 6,573,052\n",
      "Non-trainable params: 0\n",
      "_________________________________________________________________\n"
     ]
    }
   ],
   "source": [
    "cnn.summary()"
   ]
  },
  {
   "cell_type": "markdown",
   "metadata": {},
   "source": [
    "## Fitting the model"
   ]
  },
  {
   "cell_type": "code",
   "execution_count": 9,
   "metadata": {},
   "outputs": [
    {
     "name": "stdout",
     "output_type": "stream",
     "text": [
      "Epoch 1/10\n",
      "132/132 [==============================] - 66s 501ms/step - loss: 7.6826 - accuracy: 0.4989 - val_loss: 15.3371 - val_accuracy: 0.5000\n",
      "Epoch 2/10\n",
      "132/132 [==============================] - 73s 556ms/step - loss: 7.6896 - accuracy: 0.4996 - val_loss: 3.8343 - val_accuracy: 0.5000\n",
      "Epoch 3/10\n",
      "132/132 [==============================] - 72s 542ms/step - loss: 7.6896 - accuracy: 0.4996 - val_loss: 3.8343 - val_accuracy: 0.5000\n",
      "Epoch 4/10\n",
      "132/132 [==============================] - 71s 535ms/step - loss: 7.7127 - accuracy: 0.4996 - val_loss: 7.6685 - val_accuracy: 0.5000\n",
      "Epoch 5/10\n",
      "132/132 [==============================] - 67s 507ms/step - loss: 7.7012 - accuracy: 0.4996 - val_loss: 0.0000e+00 - val_accuracy: 0.5000\n",
      "Epoch 6/10\n",
      "132/132 [==============================] - 70s 531ms/step - loss: 7.7012 - accuracy: 0.4996 - val_loss: 3.8343 - val_accuracy: 0.5000\n",
      "Epoch 7/10\n",
      "132/132 [==============================] - 78s 590ms/step - loss: 7.7012 - accuracy: 0.4996 - val_loss: 7.6685 - val_accuracy: 0.5000\n",
      "Epoch 8/10\n",
      "132/132 [==============================] - 76s 575ms/step - loss: 7.7127 - accuracy: 0.4996 - val_loss: 11.5028 - val_accuracy: 0.5000\n",
      "Epoch 9/10\n",
      "132/132 [==============================] - 69s 521ms/step - loss: 7.6896 - accuracy: 0.4996 - val_loss: 3.8343 - val_accuracy: 0.5000\n",
      "Epoch 10/10\n",
      "132/132 [==============================] - 70s 530ms/step - loss: 7.7012 - accuracy: 0.4996 - val_loss: 7.6685 - val_accuracy: 0.5000\n"
     ]
    },
    {
     "data": {
      "text/plain": [
       "<keras.callbacks.callbacks.History at 0x22430393988>"
      ]
     },
     "execution_count": 9,
     "metadata": {},
     "output_type": "execute_result"
    }
   ],
   "source": [
    "cnn.fit_generator(train_set,validation_data=test_set,epochs=10)"
   ]
  },
  {
   "cell_type": "markdown",
   "metadata": {},
   "source": [
    "# Saving pickle file"
   ]
  },
  {
   "cell_type": "code",
   "execution_count": 10,
   "metadata": {},
   "outputs": [],
   "source": [
    "import pickle\n",
    "\n",
    "with open('cnn_model.pkl','wb') as file:\n",
    "    pickle.dump(cnn,file)"
   ]
  },
  {
   "cell_type": "code",
   "execution_count": null,
   "metadata": {},
   "outputs": [],
   "source": []
  }
 ],
 "metadata": {
  "kernelspec": {
   "display_name": "Python 3",
   "language": "python",
   "name": "python3"
  },
  "language_info": {
   "codemirror_mode": {
    "name": "ipython",
    "version": 3
   },
   "file_extension": ".py",
   "mimetype": "text/x-python",
   "name": "python",
   "nbconvert_exporter": "python",
   "pygments_lexer": "ipython3",
   "version": "3.7.5"
  }
 },
 "nbformat": 4,
 "nbformat_minor": 2
}
